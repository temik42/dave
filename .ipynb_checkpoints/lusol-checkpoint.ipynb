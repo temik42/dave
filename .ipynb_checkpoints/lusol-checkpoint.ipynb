{
 "cells": [
  {
   "cell_type": "code",
   "execution_count": 14,
   "metadata": {
    "collapsed": false
   },
   "outputs": [
    {
     "name": "stdout",
     "output_type": "stream",
     "text": [
      "[-0.09677428  1.00000012 -0.12903227]\n",
      "[1.0, 2.0, 0.9999994]\n"
     ]
    }
   ],
   "source": [
    "import numpy as np\n",
    "tiny = 1e-40\n",
    "d = 1.\n",
    "#lu = np.zeros((n,n), dtype = np.float32)\n",
    "lu = np.array([[1,2,7],[5,3,4],[9,2,1]], dtype = np.float32)\n",
    "n = lu.shape[0]\n",
    "\n",
    "a = np.array(lu)\n",
    "b = np.array([1,2,1], dtype = np.float32)\n",
    "\n",
    "vv = np.zeros((n,), dtype = np.float32)\n",
    "indx = np.zeros((n,), dtype = np.float32)\n",
    "\n",
    "for i in range(0,n):\n",
    "    big = 0.\n",
    "    for j in range(0,n):\n",
    "        temp = np.abs(lu[i,j])\n",
    "        if (temp > big):\n",
    "            big = temp\n",
    "        if (big == 0.):\n",
    "            print \"singular matrix\"\n",
    "        else:\n",
    "            vv[i] = 1./big\n",
    "\n",
    "for k in range(0,n):\n",
    "    big = 0.\n",
    "    for i in range(k,n):\n",
    "        temp = vv[i]*np.abs(lu[i,k])\n",
    "        if (temp > big):\n",
    "            big = temp\n",
    "            imax = i\n",
    "    if (k != imax):\n",
    "        for j in range(0,n):\n",
    "            temp = lu[imax,j]\n",
    "            lu[imax,j] = lu[k,j]\n",
    "            lu[k,j] = temp\n",
    "        d = -d\n",
    "        vv[imax] = vv[k]\n",
    "    indx[k] = imax\n",
    "    if (lu[k,k] == 0.):\n",
    "        lu[k,k] = tiny\n",
    "    for i in range(k+1,n):\n",
    "        lu[i,k] /= lu[k,k]\n",
    "        temp = lu[i,k]\n",
    "        for j in range(k+1,n):\n",
    "            lu[i,j] -= temp*lu[k,j]\n",
    "            \n",
    "ii = 0\n",
    "x = np.array(b)\n",
    "\n",
    "for i in range(0,n):\n",
    "    ip = indx[i]\n",
    "    su = x[ip]\n",
    "    x[ip] = x[i]\n",
    "    if (ii != 0):\n",
    "        for j in range(ii-1,i):\n",
    "            su -= lu[i,j]*x[j]\n",
    "    else:\n",
    "        if (su != 0.):\n",
    "            ii = i+1\n",
    "    x[i] = su\n",
    "for i in range(n-1,-1,-1):\n",
    "    su = x[i]\n",
    "    for j in range(i+1,n):\n",
    "        su -= lu[i,j]*x[j]\n",
    "    x[i] = su/lu[i,i]\n",
    "\n",
    "print x\n",
    "print [np.sum(a[i,:]*x) for i in range(0,n)]"
   ]
  },
  {
   "cell_type": "code",
   "execution_count": 1,
   "metadata": {
    "collapsed": true
   },
   "outputs": [],
   "source": [
    "import numpy as np\n",
    "import lusol"
   ]
  },
  {
   "cell_type": "code",
   "execution_count": 13,
   "metadata": {
    "collapsed": false
   },
   "outputs": [],
   "source": [
    "shape = (4,4,4)\n",
    "A = np.random.random((3,3)+shape,.astype(np.float32)\n",
    "b = np.random.random((3,) +shape).astype(np.float32)\n",
    "\n",
    "cl = lusol.Solver(A,b).run()"
   ]
  },
  {
   "cell_type": "code",
   "execution_count": 17,
   "metadata": {
    "collapsed": false
   },
   "outputs": [],
   "source": [
    "A1 = A[2,2,2,:,:]\n",
    "b1 = b[2,2,2,:]\n",
    "x1 = cl.out[2,2,2,:]"
   ]
  },
  {
   "cell_type": "code",
   "execution_count": 20,
   "metadata": {
    "collapsed": false
   },
   "outputs": [
    {
     "data": {
      "text/plain": [
       "[3.1443441, 2.2916071, 3.2564983]"
      ]
     },
     "execution_count": 20,
     "metadata": {},
     "output_type": "execute_result"
    }
   ],
   "source": [
    "[np.sum(A1[:,i]*x1) for i in range(0,3)]"
   ]
  },
  {
   "cell_type": "code",
   "execution_count": 19,
   "metadata": {
    "collapsed": false
   },
   "outputs": [
    {
     "data": {
      "text/plain": [
       "array([ 0.44246453,  0.39617133,  0.87901872], dtype=float32)"
      ]
     },
     "execution_count": 19,
     "metadata": {},
     "output_type": "execute_result"
    }
   ],
   "source": [
    "b1"
   ]
  },
  {
   "cell_type": "code",
   "execution_count": 12,
   "metadata": {
    "collapsed": false
   },
   "outputs": [
    {
     "data": {
      "text/plain": [
       "2147483648L"
      ]
     },
     "execution_count": 12,
     "metadata": {},
     "output_type": "execute_result"
    }
   ],
   "source": [
    "2**31"
   ]
  },
  {
   "cell_type": "code",
   "execution_count": null,
   "metadata": {
    "collapsed": true
   },
   "outputs": [],
   "source": []
  }
 ],
 "metadata": {
  "kernelspec": {
   "display_name": "Python 2",
   "language": "python",
   "name": "python2"
  },
  "language_info": {
   "codemirror_mode": {
    "name": "ipython",
    "version": 2
   },
   "file_extension": ".py",
   "mimetype": "text/x-python",
   "name": "python",
   "nbconvert_exporter": "python",
   "pygments_lexer": "ipython2",
   "version": "2.7.10"
  }
 },
 "nbformat": 4,
 "nbformat_minor": 0
}
